{
 "cells": [
  {
   "cell_type": "markdown",
   "metadata": {},
   "source": [
    "### 5. Ciklusok I: a while ciklus"
   ]
  },
  {
   "cell_type": "markdown",
   "metadata": {},
   "source": [
    "Az elmúlt hetekben írt programjainkban az volt a közös, hogy néhány parancs felsorolásából álltak, melyeket aztán sorra végrehajtottak a bemenetükön és így hoztak létre valamilyen kimenetet. A legtöbb programnak azonban képesnek kell lennie arra, hogy a benne szereplő műveleteket ne csak egyszer hajtsa végre, hanem sokszor. Amikor arra kell utasítanunk egy programot, hogy valamely műveleteket többször hajtson végre, és valamely feltételektől tegye függővé, hogy mikor áll meg, akkor __ciklusokat__ írunk. A ciklusok két legelterjedtebb, legfontosabb fajtájáról lesz szó ebben a félévben: a __while__ ciklusokról és a __for__ ciklusokról. Kezdjük a __while__ ciklussal!"
   ]
  },
  {
   "cell_type": "markdown",
   "metadata": {},
   "source": [
    "### 5.1 A while ciklus"
   ]
  },
  {
   "cell_type": "markdown",
   "metadata": {},
   "source": [
    "A ciklus legegyszerűbb példája, amikor azt mondjuk: valamely programrészlet ismétlődjön mindaddig, amíg egy bizonyos feltétel teljesül. Ilyenkor az adott kódot egy ún. __while__ ciklusba tesszük: a while szót követően megadunk egy feltételt, majd az ezt követő blokkba írjuk azokat az utasításokat, amik mindaddig ismétlődni fognak, amíg a feltétel igaz. Íme egy nagyon egyszerű while ciklus:"
   ]
  },
  {
   "cell_type": "code",
   "execution_count": null,
   "metadata": {
    "collapsed": false
   },
   "outputs": [],
   "source": [
    "jelszo = \"\"\n",
    "print(\"Mi a jelszó?\")\n",
    "jelszo = input()\n",
    "while jelszo != \"pingvin\":    \n",
    "    print(\"Próbáld újra!\")\n",
    "    jelszo = input()\n",
    "\n",
    "print(\"Igen!\")"
   ]
  },
  {
   "cell_type": "markdown",
   "metadata": {},
   "source": [
    "Ez a program szokás szerint feltesz egy kérdést és beolvassa a választ. Ezután viszont mindaddig újra és újra ismételni fogja a beolvasást, amíg nem teljesól egy adott feltétel, jelen esetben az, hogy a felhasználó eltalálta a jelszót."
   ]
  },
  {
   "cell_type": "markdown",
   "metadata": {},
   "source": [
    "Nagyon gyakori, hogy egy utasítássorozatot így akarunk ismételni! Amikor a brownie-receptben az szerepelt, hogy addig verjük a tojást, amíg habos nem lesz, vagy addig hagyjuk állni a sütit, amíg ki nem hűl, akkor ez mindig azt jelentette, hogy valamely műveleteket addig kellett ismételni, amíg egy feltétel nem teljesül. Ezeket egy programozási nyelven általában while ciklussal fogalmaznánk meg."
   ]
  },
  {
   "cell_type": "markdown",
   "metadata": {},
   "source": [
    "A while ciklusnak az értelmét az adja, hogy a benne szereplő utasítások hatására valami mindig megváltozik - ebben a példában pl. a _jelszo_ változó értéke, ezért van értelme minden \"körben\" újra ellenőrizni a feltételt. Ebben a második példában egy listát töltünk fel a felhasználó által megadott szavakkal, és addig nem állunk meg, amíg nem gyűjtöttünk össze 5-öt:"
   ]
  },
  {
   "cell_type": "code",
   "execution_count": null,
   "metadata": {
    "collapsed": false
   },
   "outputs": [],
   "source": [
    "allatok = []\n",
    "while len(allatok) < 5:\n",
    "    print(\"Válassz egy állatot!\")\n",
    "    allat = input()\n",
    "    allatok.append(allat)\n",
    "\n",
    "print(\"Ezeket választottad:\", allatok)"
   ]
  },
  {
   "cell_type": "markdown",
   "metadata": {},
   "source": [
    "Persze ez a program sokkal hasznosabb, ha nem mindig pont 5 szót tud csak beolvasni, hanem minden futtatáskor megadhatjuk, hogy most épp hányat kell. Ezért betesszük egy függvénybe, aminek paramétere, hogy milyen hosszú lehet a lista:"
   ]
  },
  {
   "cell_type": "code",
   "execution_count": null,
   "metadata": {
    "collapsed": false
   },
   "outputs": [],
   "source": [
    "def allat_beolvasas(n):\n",
    "    allatok = []\n",
    "    while len(allatok) < n:\n",
    "        print(\"Válassz egy állatot!\")\n",
    "        allat = input()\n",
    "        allatok.append(allat)\n",
    "\n",
    "    print(\"Ezeket választottad:\", allatok)\n",
    "\n",
    "allat_beolvasas(5)"
   ]
  },
  {
   "cell_type": "markdown",
   "metadata": {},
   "source": [
    "A while ciklusokat sokféleképp használhatjuk aszerint, hogy milyen feltételhez kötjük a befejezését. A fenti függvényt például átírhatnánk úgy, hogy ne a beolvasott szavak darabszáma számítson, hanem a hosszuk összege, tehát mindaddig olvassuk be a szavakat, amíg legalább valahány betűnyi össze nem gyűlt:"
   ]
  },
  {
   "cell_type": "code",
   "execution_count": 3,
   "metadata": {
    "collapsed": false
   },
   "outputs": [
    {
     "name": "stdout",
     "output_type": "stream",
     "text": [
      "Válassz egy állatot!\n",
      "vizsla\n",
      "Válassz egy állatot!\n",
      "medve\n",
      "Válassz egy állatot!\n",
      "zsiráf\n",
      "Válassz egy állatot!\n",
      "pingvin\n",
      "Ezeket választottad: ['vizsla', 'medve', 'zsiráf', 'pingvin']\n",
      "Összesen ennyi betű: 24\n"
     ]
    }
   ],
   "source": [
    "def allat_beolvasas(n):\n",
    "    allatok = []\n",
    "    hossz = 0\n",
    "    while hossz < n:\n",
    "        print(\"Válassz egy állatot!\")\n",
    "        allat = input()\n",
    "        allatok.append(allat)\n",
    "        hossz = hossz + len(allat)\n",
    "\n",
    "    print(\"Ezeket választottad:\", allatok)\n",
    "    print(\"Összesen ennyi betű:\", hossz)\n",
    "\n",
    "allat_beolvasas(20)"
   ]
  },
  {
   "cell_type": "markdown",
   "metadata": {},
   "source": [
    "Itt arra is láttunk példát, hogy egy változót számlálónak használtunk: a __hossz__ változó minden körben növekedett, számolta, hogy összesen hány betűt írt már be a felhasználó. Gyakran fordul elő, hogy azt szeretnénk számolni, hányadszor ismétlődik éppen a while ciklus. Írjuk át a beolvasó programunk első változatát úgy, hogy ne a lista hosszát ellenőrizze, hanem számlálót használjon:"
   ]
  },
  {
   "cell_type": "code",
   "execution_count": 4,
   "metadata": {
    "collapsed": false
   },
   "outputs": [
    {
     "name": "stdout",
     "output_type": "stream",
     "text": [
      "Válassz egy állatot!\n",
      "pingvin\n",
      "Válassz egy állatot!\n",
      "kutya\n",
      "Válassz egy állatot!\n",
      "zsiráf\n",
      "Válassz egy állatot!\n",
      "medve\n",
      "Válassz egy állatot!\n",
      "pinty\n",
      "Ezeket választottad: ['pingvin', 'kutya', 'zsiráf', 'medve', 'pinty']\n"
     ]
    }
   ],
   "source": [
    "def allat_beolvasas(n):\n",
    "    allatok = []\n",
    "    szamlalo = 0\n",
    "    while szamlalo < 5:\n",
    "        print(\"Válassz egy állatot!\")\n",
    "        allat = input()\n",
    "        allatok.append(allat)\n",
    "        szamlalo = szamlalo + 1\n",
    "\n",
    "    print(\"Ezeket választottad:\", allatok)\n",
    "\n",
    "allat_beolvasas(5)"
   ]
  },
  {
   "cell_type": "markdown",
   "metadata": {},
   "source": [
    "Természetesen a while cikluson belül is szerepelhet bármi, amit eddig tanultunk, így például elágazás is. Az alábbi program például csak azokat az állatokat fogadja el, amik \"p\" betűvel kezdődnek:"
   ]
  },
  {
   "cell_type": "code",
   "execution_count": 5,
   "metadata": {
    "collapsed": false
   },
   "outputs": [
    {
     "name": "stdout",
     "output_type": "stream",
     "text": [
      "Válassz egy p betűs állatot!\n",
      "kutya\n",
      "Ez nem p betűvel kezdődik!\n",
      "Válassz egy p betűs állatot!\n",
      "pingvin\n",
      "Válassz egy p betűs állatot!\n",
      "panda\n",
      "Válassz egy p betűs állatot!\n",
      "pincsi\n",
      "Válassz egy p betűs állatot!\n",
      "pinty\n",
      "Válassz egy p betűs állatot!\n",
      "ponty\n",
      "Ezeket választottad: ['pingvin', 'panda', 'pincsi', 'pinty', 'ponty']\n"
     ]
    }
   ],
   "source": [
    "def allat_beolvasas(n):\n",
    "    allatok = []\n",
    "    szamlalo = 0\n",
    "    while szamlalo < 5:\n",
    "        print(\"Válassz egy p betűs állatot!\")\n",
    "        allat = input()\n",
    "        if allat[0] == \"p\":\n",
    "            allatok.append(allat)\n",
    "            szamlalo = szamlalo + 1\n",
    "        else:\n",
    "            print(\"Ez nem p betűvel kezdődik!\")\n",
    "\n",
    "    print(\"Ezeket választottad:\", allatok)\n",
    "\n",
    "allat_beolvasas(5)"
   ]
  },
  {
   "cell_type": "markdown",
   "metadata": {},
   "source": [
    "Persze közben egy ilyen \"játékot\" is érdemesebb úgy megírni, hogy ne csak p betűvel működjön:"
   ]
  },
  {
   "cell_type": "code",
   "execution_count": 1,
   "metadata": {
    "collapsed": false
   },
   "outputs": [
    {
     "name": "stdout",
     "output_type": "stream",
     "text": [
      "Válassz egy p betűs állatot!\n",
      "panda\n",
      "Válassz egy p betűs állatot!\n",
      "kutya\n",
      "Ez nem p betűvel kezdődik!\n",
      "Válassz egy p betűs állatot!\n",
      "pincsi\n",
      "Válassz egy p betűs állatot!\n",
      "pudli\n",
      "Válassz egy p betűs állatot!\n",
      "puli\n",
      "Válassz egy p betűs állatot!\n",
      "pingvin\n",
      "Ezeket választottad: ['panda', 'pincsi', 'pudli', 'puli', 'pingvin']\n"
     ]
    }
   ],
   "source": [
    "def allat_beolvasas(n, betu):\n",
    "    allatok = []\n",
    "    szamlalo = 0\n",
    "    while szamlalo < 5:\n",
    "        print(\"Válassz egy\", betu, \"betűs állatot!\")\n",
    "        allat = input()\n",
    "        if allat[0] == betu:\n",
    "            allatok.append(allat)\n",
    "            szamlalo = szamlalo + 1\n",
    "        else:\n",
    "            print(\"Ez nem\", betu, \"betűvel kezdődik!\")\n",
    "\n",
    "    print(\"Ezeket választottad:\", allatok)\n",
    "\n",
    "allat_beolvasas(5, \"p\")"
   ]
  },
  {
   "cell_type": "markdown",
   "metadata": {},
   "source": [
    "Egy while cikluson belül bármikor adhatunk olyan utasítást, hogy a ciklus érjen véget, tehát \"ugorjunk ki\" belőle és menjünk tovább a ciklus utáni kódra. Erre szolgál a __break__ parancs. Az alábbi program például addig olvas be számokat, amíg a felhasználó nullát nem ír be:"
   ]
  },
  {
   "cell_type": "code",
   "execution_count": 3,
   "metadata": {
    "collapsed": false
   },
   "outputs": [
    {
     "name": "stdout",
     "output_type": "stream",
     "text": [
      "4\n",
      "3\n",
      "2\n",
      "5\n",
      "0\n"
     ]
    }
   ],
   "source": [
    "def szamok():\n",
    "    while True:\n",
    "        szam = int(input())\n",
    "        if szam == 0:\n",
    "            break\n",
    "\n",
    "szamok()"
   ]
  },
  {
   "cell_type": "markdown",
   "metadata": {},
   "source": [
    "Itt egyben arra is láttunk példát, hogy a  __while__ után olyan feltételt is megadhatunk, ami mindig igaz: ez maga az \"igazság\", vagyis a __True__. Ilyenkor tudjuk, hogy a ciklus belsejébe írt kód fog gondoskodni arról, hogy a program előbb-utóbb megálljon, iylenkor a while szerepe csak az, hogy mindaddig ismételgesse az adott kódot, amíg az el nem jut egy olyan ágra, ahol a __break__ parancs megállítja. Ugyanilyen eljárással kérhetnénk valakitől a jelszót is, az első példa módosításával:"
   ]
  },
  {
   "cell_type": "code",
   "execution_count": 23,
   "metadata": {
    "collapsed": false
   },
   "outputs": [
    {
     "name": "stdout",
     "output_type": "stream",
     "text": [
      "Mi a jelszó?\n",
      "kutya\n",
      "Mi a jelszó?\n",
      "macska\n",
      "Mi a jelszó?\n",
      "pingvin\n",
      "Igen!\n"
     ]
    }
   ],
   "source": [
    "def jelszo_keres(jelszo):\n",
    "    while True:\n",
    "        print(\"Mi a jelszó?\")\n",
    "        beirt_jelszo = input()\n",
    "        if beirt_jelszo == jelszo:\n",
    "            print(\"Igen!\")\n",
    "            break\n",
    "\n",
    "jelszo_keres(\"pingvin\")"
   ]
  },
  {
   "cell_type": "markdown",
   "metadata": {},
   "source": [
    "Egy függvényen belül persze a ciklust az is megállítja, ha egy __return__ kezdetű utasításra érünk, ilyenkor ugyanis maga a függvény futása is véget ér. A fenti programot például átírhatnánk úgy, hogy ha a felhasználó eltalálta a jelszót, adja vissza, hogy True:"
   ]
  },
  {
   "cell_type": "code",
   "execution_count": 26,
   "metadata": {
    "collapsed": false
   },
   "outputs": [
    {
     "name": "stdout",
     "output_type": "stream",
     "text": [
      "Mi a jelszó?\n",
      "pingvin\n"
     ]
    },
    {
     "data": {
      "text/plain": [
       "True"
      ]
     },
     "execution_count": 26,
     "metadata": {},
     "output_type": "execute_result"
    }
   ],
   "source": [
    "def jelszo_keres(jelszo):\n",
    "    while True:\n",
    "        print(\"Mi a jelszó?\")\n",
    "        beirt_jelszo = input()\n",
    "        if beirt_jelszo == jelszo:\n",
    "            return True\n",
    "\n",
    "jelszo_keres(\"pingvin\")"
   ]
  },
  {
   "cell_type": "markdown",
   "metadata": {},
   "source": [
    "Ennek a függvénynek az is az előnye, hogy feltételként használható: mivel True-t ad vissza, ha sikerült beírni a jelszót, ezért használhatjuk ellenőrzésként egy más programban:"
   ]
  },
  {
   "cell_type": "code",
   "execution_count": 25,
   "metadata": {
    "collapsed": false
   },
   "outputs": [
    {
     "name": "stdout",
     "output_type": "stream",
     "text": [
      "Mi a jelszó?\n",
      "kutya\n",
      "Mi a jelszó?\n",
      "cica\n",
      "Mi a jelszó?\n",
      "pingvin\n",
      "Igen!\n",
      "valami titkos szöveg\n"
     ]
    }
   ],
   "source": [
    "def titok(szoveg):\n",
    "    if jelszo_keres(\"pingvin\"):\n",
    "        print(szoveg)\n",
    "        \n",
    "titok(\"valami titkos szöveg\")    "
   ]
  },
  {
   "cell_type": "markdown",
   "metadata": {},
   "source": [
    "A __continue__ parancs egy while cikluson belül azt jelenti, ugorjunk a következő \"körre\", vagyis ne menjünk el a ciklus végéig, hanem kezdjük előlről. Az alábbi program például számokat olvas be, de csak az egészeket tárolja el, és addig tart, amíg nem kapott 5 ilyet:"
   ]
  },
  {
   "cell_type": "code",
   "execution_count": 6,
   "metadata": {
    "collapsed": false
   },
   "outputs": [
    {
     "name": "stdout",
     "output_type": "stream",
     "text": [
      "4.3\n",
      "2.3\n",
      "4\n",
      "1\n",
      "7\n",
      "5.4\n",
      "3\n",
      "2\n",
      "[4.0, 1.0, 7.0, 3.0, 2.0]\n"
     ]
    }
   ],
   "source": [
    "def ot_egesz():\n",
    "    szamok = []\n",
    "    while len(szamok) < 5:\n",
    "        szam = float(input())\n",
    "        if int(szam) != szam:\n",
    "            continue\n",
    "        szamok.append(szam)\n",
    "    print(szamok)\n",
    "\n",
    "ot_egesz()"
   ]
  },
  {
   "cell_type": "markdown",
   "metadata": {},
   "source": []
  },
  {
   "cell_type": "markdown",
   "metadata": {},
   "source": [
    "Eddig olyan példákat láttunk, ahol egy lista folyamatosan növekedett, ahogy újra és újra végrehajtottuk a ciklus-beli utasításokat. Hasonló módon egy lista \"elfogyni\" is tud, így tudunk pl. egy lista minden elemére végrehajtani egy műveletet. Az alábbi program például egy lista elemeit írja ki sorban, egymás alá:"
   ]
  },
  {
   "cell_type": "code",
   "execution_count": 9,
   "metadata": {
    "collapsed": false
   },
   "outputs": [
    {
     "name": "stdout",
     "output_type": "stream",
     "text": [
      "1\n",
      "2\n",
      "3\n",
      "4\n"
     ]
    }
   ],
   "source": [
    "def kiiratas(lista):\n",
    "    while len(lista) > 0:\n",
    "        print(lista[0])\n",
    "        lista = lista[1:]\n",
    "\n",
    "kiiratas([1,2,3,4])"
   ]
  },
  {
   "cell_type": "markdown",
   "metadata": {},
   "source": [
    "A fenti példa egyébként sztringekkel ugyanúgy működne:"
   ]
  },
  {
   "cell_type": "code",
   "execution_count": 10,
   "metadata": {
    "collapsed": false
   },
   "outputs": [
    {
     "name": "stdout",
     "output_type": "stream",
     "text": [
      "H\n",
      "o\n",
      "s\n",
      "s\n",
      "z\n",
      "ú\n",
      " \n",
      "K\n",
      "a\n",
      "t\n",
      "i\n",
      "n\n",
      "k\n",
      "a\n"
     ]
    }
   ],
   "source": [
    "kiiratas(\"Hosszú Katinka\")"
   ]
  },
  {
   "cell_type": "markdown",
   "metadata": {},
   "source": [
    "Most már írhatunk olyan függvényt is, ami emlékeztet a \"melegítésre\". Növeljük valaminek a hőmérsékletét mindaddig, amíg el nem éri a 80 fokot, és írjuk is ki mindig, hogy hol tartunk:"
   ]
  },
  {
   "cell_type": "code",
   "execution_count": 11,
   "metadata": {
    "collapsed": false
   },
   "outputs": [
    {
     "name": "stdout",
     "output_type": "stream",
     "text": [
      "25\n",
      "30\n",
      "35\n",
      "40\n",
      "45\n",
      "50\n",
      "55\n",
      "60\n",
      "65\n",
      "70\n",
      "75\n",
      "80\n"
     ]
    }
   ],
   "source": [
    "def melegit(meddig):\n",
    "    homerseklet = 20\n",
    "    while homerseklet < meddig:\n",
    "        homerseklet = homerseklet + 5\n",
    "        print(homerseklet)\n",
    "\n",
    "melegit(80)"
   ]
  },
  {
   "cell_type": "markdown",
   "metadata": {},
   "source": [
    "Így már egész bonyolultnak tűnő dolgokat ki tudunk számolni. Pl. megnézhetem, hogy ha 1000 forintom van a bankban és évente 5%-ot kamatozik, akkor mikorra duplázódik meg:"
   ]
  },
  {
   "cell_type": "code",
   "execution_count": 15,
   "metadata": {
    "collapsed": false
   },
   "outputs": [
    {
     "name": "stdout",
     "output_type": "stream",
     "text": [
      "15 év után 2078.9281794113685 forintod lesz\n"
     ]
    }
   ],
   "source": [
    "def dupla():\n",
    "    penz = 1000\n",
    "    ev = 0\n",
    "    while penz < 2000:\n",
    "        penz = 1.05*penz\n",
    "        ev = ev + 1\n",
    "    print(ev, \"év után\", penz, \"forintod lesz\")\n",
    "    \n",
    "dupla()"
   ]
  },
  {
   "cell_type": "markdown",
   "metadata": {},
   "source": [
    "Persze sokkal érdekesebb ez a program is, ha vannak paraméterei, tehát pl. megmondhatjuk, hogy mennyi pénzünk van, mennyire van szükségünk, és mennyi a kamat:"
   ]
  },
  {
   "cell_type": "code",
   "execution_count": 19,
   "metadata": {
    "collapsed": false
   },
   "outputs": [
    {
     "name": "stdout",
     "output_type": "stream",
     "text": [
      "23 év után 3071.5237559178095 forintod lesz\n"
     ]
    }
   ],
   "source": [
    "def kamatszamitas(penz, cel, kamat):\n",
    "    ev = 0\n",
    "    while penz < cel:\n",
    "        penz = penz+kamat*penz\n",
    "        ev = ev + 1\n",
    "    print(ev, \"év után\", penz, \"forintod lesz\")\n",
    "    \n",
    "kamatszamitas(1000, 3000, 0.05)"
   ]
  },
  {
   "cell_type": "markdown",
   "metadata": {},
   "source": [
    "Ekkor már könnyedén írhatunk egy olyan hasznosabb programot, ami a felhasználótól kéri be ezeket az infókat:"
   ]
  },
  {
   "cell_type": "code",
   "execution_count": 22,
   "metadata": {
    "collapsed": false
   },
   "outputs": [
    {
     "name": "stdout",
     "output_type": "stream",
     "text": [
      "Mennyi pénzed van?\n",
      "1000\n",
      "Mennyire van szükséged?\n",
      "1500\n",
      "Mennyi a kamat?\n",
      "0.05\n",
      "9 év után 1551.3282159785153 forintod lesz\n"
     ]
    }
   ],
   "source": [
    "def kamatszamitas2():\n",
    "    print(\"Mennyi pénzed van?\")\n",
    "    penz = int(input())\n",
    "    print(\"Mennyire van szükséged?\")\n",
    "    cel = int(input())\n",
    "    print(\"Mennyi a kamat?\")\n",
    "    kamat = float(input())\n",
    "    kamatszamitas(penz, cel, kamat)\n",
    "\n",
    "kamatszamitas2()"
   ]
  },
  {
   "cell_type": "markdown",
   "metadata": {},
   "source": [
    "__5.1a FELADAT__: Írj olyan függvényt, ami számokat olvas be mindaddig, míg az összegük el nem éri a 20-at. Ezután írja ki a számok összegét!"
   ]
  },
  {
   "cell_type": "code",
   "execution_count": null,
   "metadata": {
    "collapsed": true
   },
   "outputs": [],
   "source": []
  },
  {
   "cell_type": "markdown",
   "metadata": {},
   "source": [
    "__5.1b FELADAT__: Az előző függvényt módosítsd úgy, hogy a végén a beírt számokat is ki tudja írni a program!"
   ]
  },
  {
   "cell_type": "code",
   "execution_count": null,
   "metadata": {
    "collapsed": true
   },
   "outputs": [],
   "source": []
  },
  {
   "cell_type": "markdown",
   "metadata": {},
   "source": [
    "__5.2a FELADAT__ Írj olyan függvényt, ami addig olvas be szavakat a felhasználótól, amíg nem kapott három hárombetűset! Ha ez megvan, írja ki a hárombetűs szavakat!"
   ]
  },
  {
   "cell_type": "code",
   "execution_count": null,
   "metadata": {
    "collapsed": true
   },
   "outputs": [],
   "source": []
  },
  {
   "cell_type": "markdown",
   "metadata": {},
   "source": [
    "__5.2b FELADAT__ Oldd meg az előző feladatot a __continue__ használatával!"
   ]
  },
  {
   "cell_type": "code",
   "execution_count": null,
   "metadata": {
    "collapsed": true
   },
   "outputs": [],
   "source": []
  },
  {
   "cell_type": "markdown",
   "metadata": {},
   "source": [
    "__5.2c FELADAT__ Oldd meg az előző feladatot a __break__ használatával! A feltétel legyen _while True:_"
   ]
  },
  {
   "cell_type": "code",
   "execution_count": null,
   "metadata": {
    "collapsed": true
   },
   "outputs": [],
   "source": []
  },
  {
   "cell_type": "markdown",
   "metadata": {
    "collapsed": true
   },
   "source": [
    "__5.3a FELADAT__ Írj olyan függvényt, ami szavakat olvas be mindaddig, amíg a felasználó azt nem írja be, hogy \"elég\". Ezután írd ki a beolvasott szavakat ábécé-sorrendben."
   ]
  },
  {
   "cell_type": "code",
   "execution_count": null,
   "metadata": {
    "collapsed": true
   },
   "outputs": [],
   "source": []
  },
  {
   "cell_type": "markdown",
   "metadata": {},
   "source": [
    "__5.3b FELADAT__ Írd meg az előző függvényt a __break__ parancs használatával!"
   ]
  },
  {
   "cell_type": "code",
   "execution_count": null,
   "metadata": {
    "collapsed": true
   },
   "outputs": [],
   "source": []
  },
  {
   "cell_type": "markdown",
   "metadata": {},
   "source": [
    "__5.4a FELADAT__ Használd az allat_beolvasas függvényt és írj egy programot, ami megkérdezi a felhasználót, hogy milyen paraméterekkel szeretne játszani, vagyis hány állatot fog mondani és milyen betűvel, majd a megadott paraméterekkel elindítja a játékot."
   ]
  },
  {
   "cell_type": "code",
   "execution_count": null,
   "metadata": {
    "collapsed": true
   },
   "outputs": [],
   "source": []
  },
  {
   "cell_type": "markdown",
   "metadata": {},
   "source": [
    "__5.4b FELADAT__ Az előző programot írd át úgy, hogy ha végetért a játék, akkor megkérdezze, akar-e új játékot a felhasználó (és ha igen, akkor kezdődjön minden előlről). Két megoldást is tudhatunk!"
   ]
  },
  {
   "cell_type": "code",
   "execution_count": null,
   "metadata": {
    "collapsed": true
   },
   "outputs": [],
   "source": []
  },
  {
   "cell_type": "markdown",
   "metadata": {},
   "source": [
    "__5.5a FELADAT__ Írj olyan függvényt, aminek átadunk egy számot, a felhasználónak pedig meg kell tippelnie, hogy a program melyik számra \"gondolt\". Minden tipp után írjuk ki, hogy a gondolt szám a tippnél nagyobb-e vagy kisebb!"
   ]
  },
  {
   "cell_type": "code",
   "execution_count": null,
   "metadata": {
    "collapsed": true
   },
   "outputs": [],
   "source": []
  },
  {
   "cell_type": "markdown",
   "metadata": {},
   "source": [
    "__5.5b FELADAT__ Az előző feladatot úgy oldjuk meg, hogy a felhasználó az elején megmondhassa, legfeljebb hány tippet engedjen a program. Ha ennyi tipp után sem találta el a számot, írjuk ki, hogy veszített és áruljuk el a számot. Ha kitalálta, mondjuk meg, hány próbálkozásból sikerült!"
   ]
  },
  {
   "cell_type": "code",
   "execution_count": null,
   "metadata": {
    "collapsed": true
   },
   "outputs": [],
   "source": []
  },
  {
   "cell_type": "markdown",
   "metadata": {},
   "source": [
    "__5.6a FELADAT__ Írd át a jelszo_keres függvényt úgy, hogy ha harmadszorra is rossz jelszót adunk meg, akkor ne legyen több próbálkozás, hanem adjon vissza \"hamis\" értéket (False)"
   ]
  },
  {
   "cell_type": "code",
   "execution_count": null,
   "metadata": {
    "collapsed": true
   },
   "outputs": [],
   "source": []
  },
  {
   "cell_type": "markdown",
   "metadata": {},
   "source": [
    "__5.6b FELADAT__ Ennek segítségével írjuk át a titok függvényt úgy, hogy ha nem sikerült a felhasználónak haramdszora sem beírni a jelszót, akkor ne írja ki a titkos szöveget, hanem írja ki, hogy \"nincs jogosultságod\"."
   ]
  },
  {
   "cell_type": "code",
   "execution_count": null,
   "metadata": {
    "collapsed": true
   },
   "outputs": [],
   "source": []
  }
 ],
 "metadata": {
  "kernelspec": {
   "display_name": "Python 3",
   "language": "python",
   "name": "python3"
  },
  "language_info": {
   "codemirror_mode": {
    "name": "ipython",
    "version": 3
   },
   "file_extension": ".py",
   "mimetype": "text/x-python",
   "name": "python",
   "nbconvert_exporter": "python",
   "pygments_lexer": "ipython3",
   "version": "3.5.2"
  }
 },
 "nbformat": 4,
 "nbformat_minor": 1
}
